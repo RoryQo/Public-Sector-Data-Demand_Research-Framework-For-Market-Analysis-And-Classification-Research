{
 "cells": [
  {
   "cell_type": "code",
   "execution_count": 1,
   "id": "3ef2e494",
   "metadata": {},
   "outputs": [],
   "source": [
    "from data_buyer_toolkit.toolkit import (\n",
    "    fetch_and_score_job,\n",
    "    batch_fetch_and_score_jobs,\n",
    "    search_job_ids_by_title,\n",
    "    fetch_and_score_top_by_use_case_auto,\n",
    "    preprocess_job_api_response,\n",
    "    load_pipeline,\n",
    ")"
   ]
  },
  {
   "cell_type": "code",
   "execution_count": 2,
   "id": "074437ae",
   "metadata": {
    "scrolled": true
   },
   "outputs": [],
   "source": [
    "\n",
    "# Direct call with all parameters inside the function\n",
    "result = fetch_and_score_job(\n",
    "    job_id=\"820370600\",\n",
    "    api_key=\"Your_API_Key\",\n",
    "    email=\"Email@email.com\"\n",
    ")"
   ]
  },
  {
   "cell_type": "code",
   "execution_count": 3,
   "id": "18d1e78b",
   "metadata": {},
   "outputs": [
    {
     "data": {
      "text/plain": [
       "{'data_buyer_score': np.float64(0.9396),\n",
       " 'title': 'PROGRAM ANALYST',\n",
       " 'agency': 'Army National Guard Units'}"
      ]
     },
     "execution_count": 3,
     "metadata": {},
     "output_type": "execute_result"
    }
   ],
   "source": [
    "result"
   ]
  },
  {
   "cell_type": "code",
   "execution_count": 4,
   "id": "c611cb27",
   "metadata": {},
   "outputs": [
    {
     "data": {
      "text/html": [
       "<div>\n",
       "<style scoped>\n",
       "    .dataframe tbody tr th:only-of-type {\n",
       "        vertical-align: middle;\n",
       "    }\n",
       "\n",
       "    .dataframe tbody tr th {\n",
       "        vertical-align: top;\n",
       "    }\n",
       "\n",
       "    .dataframe thead th {\n",
       "        text-align: right;\n",
       "    }\n",
       "</style>\n",
       "<table border=\"1\" class=\"dataframe\">\n",
       "  <thead>\n",
       "    <tr style=\"text-align: right;\">\n",
       "      <th></th>\n",
       "      <th>data_buyer_score</th>\n",
       "      <th>title</th>\n",
       "      <th>agency</th>\n",
       "    </tr>\n",
       "  </thead>\n",
       "  <tbody>\n",
       "    <tr>\n",
       "      <th>0</th>\n",
       "      <td>0.9368</td>\n",
       "      <td>Data Scientist - OIG</td>\n",
       "      <td>U.S. Capitol Police</td>\n",
       "    </tr>\n",
       "    <tr>\n",
       "      <th>1</th>\n",
       "      <td>0.2376</td>\n",
       "      <td>Economist</td>\n",
       "      <td>Department of the Air Force - Agency Wide</td>\n",
       "    </tr>\n",
       "  </tbody>\n",
       "</table>\n",
       "</div>"
      ],
      "text/plain": [
       "   data_buyer_score                 title  \\\n",
       "0            0.9368  Data Scientist - OIG   \n",
       "1            0.2376             Economist   \n",
       "\n",
       "                                      agency  \n",
       "0                        U.S. Capitol Police  \n",
       "1  Department of the Air Force - Agency Wide  "
      ]
     },
     "execution_count": 4,
     "metadata": {},
     "output_type": "execute_result"
    }
   ],
   "source": [
    "# Score a list of job titles\n",
    "titles = [\"Data Scientist\", \"Economist\", \"Marketing Analyst\"]\n",
    "results_df = batch_fetch_and_score_jobs(\n",
    "    job_titles=titles,\n",
    "    api_key=\"Your_API_Key\",\n",
    "    email=\"Email@email.com\"\n",
    ")\n",
    "\n",
    "results_df"
   ]
  },
  {
   "cell_type": "code",
   "execution_count": 5,
   "id": "c57e06d3",
   "metadata": {},
   "outputs": [
    {
     "data": {
      "text/plain": [
       "[{'job_id': 'CERE25X856887387HWS',\n",
       "  'title': 'INTERDISCIPLINARY (Ops Research Analyst/Mathematician/Statistician/Computer Sci/Data Sci)',\n",
       "  'agency': 'U.S. Army Corps of Engineers'},\n",
       " {'job_id': 'OCC-IMP-12731124-CJH',\n",
       "  'title': 'Management and Program Analyst',\n",
       "  'agency': 'Customs and Border Protection'},\n",
       " {'job_id': 'CBSS-12733706-25-KS',\n",
       "  'title': 'Health System Specialist (HPE Analyst)',\n",
       "  'agency': 'Veterans Health Administration'},\n",
       " {'job_id': 'CBTE-12734259-25-KH',\n",
       "  'title': 'Health System Specialist (Health Professions Education Analyst)',\n",
       "  'agency': 'Veterans Health Administration'},\n",
       " {'job_id': 'AFPCDHA-12575234-GS0101',\n",
       "  'title': 'PREVENTION SPECIALIST',\n",
       "  'agency': 'Department of the Air Force - Agency Wide'}]"
      ]
     },
     "execution_count": 5,
     "metadata": {},
     "output_type": "execute_result"
    }
   ],
   "source": [
    "# Search job IDs by a title\n",
    "job_list = search_job_ids_by_title(\n",
    "    position_title=\"Data Analyst\", \n",
    "    api_key=\"Your_API_Key\", \n",
    "    email=\"Email@email.com\",\n",
    "    max_results=5\n",
    ")\n",
    "\n",
    "job_list"
   ]
  },
  {
   "cell_type": "code",
   "execution_count": 8,
   "id": "703e7a31",
   "metadata": {},
   "outputs": [
    {
     "data": {
      "text/html": [
       "<div>\n",
       "<style scoped>\n",
       "    .dataframe tbody tr th:only-of-type {\n",
       "        vertical-align: middle;\n",
       "    }\n",
       "\n",
       "    .dataframe tbody tr th {\n",
       "        vertical-align: top;\n",
       "    }\n",
       "\n",
       "    .dataframe thead th {\n",
       "        text-align: right;\n",
       "    }\n",
       "</style>\n",
       "<table border=\"1\" class=\"dataframe\">\n",
       "  <thead>\n",
       "    <tr style=\"text-align: right;\">\n",
       "      <th></th>\n",
       "      <th>JobTitle</th>\n",
       "      <th>Agency</th>\n",
       "      <th>data_buyer_score</th>\n",
       "      <th>UseCase_Sentiment</th>\n",
       "    </tr>\n",
       "  </thead>\n",
       "  <tbody>\n",
       "    <tr>\n",
       "      <th>1497</th>\n",
       "      <td>ADMINISTRATIVE OFFICER</td>\n",
       "      <td>Air National Guard Units</td>\n",
       "      <td>0.989881</td>\n",
       "      <td>1</td>\n",
       "    </tr>\n",
       "    <tr>\n",
       "      <th>3075</th>\n",
       "      <td>Contract Specialist (Senior)</td>\n",
       "      <td>Air Force Services Agency</td>\n",
       "      <td>0.987920</td>\n",
       "      <td>1</td>\n",
       "    </tr>\n",
       "    <tr>\n",
       "      <th>2741</th>\n",
       "      <td>CHIEF, NAF HUMAN RESOURCES, NF-05/RFT, MCAS IW...</td>\n",
       "      <td>U.S. Marine Corps</td>\n",
       "      <td>0.983666</td>\n",
       "      <td>1</td>\n",
       "    </tr>\n",
       "  </tbody>\n",
       "</table>\n",
       "</div>"
      ],
      "text/plain": [
       "                                               JobTitle  \\\n",
       "1497                             ADMINISTRATIVE OFFICER   \n",
       "3075                       Contract Specialist (Senior)   \n",
       "2741  CHIEF, NAF HUMAN RESOURCES, NF-05/RFT, MCAS IW...   \n",
       "\n",
       "                         Agency  data_buyer_score  UseCase_Sentiment  \n",
       "1497   Air National Guard Units          0.989881                  1  \n",
       "3075  Air Force Services Agency          0.987920                  1  \n",
       "2741          U.S. Marine Corps          0.983666                  1  "
      ]
     },
     "execution_count": 8,
     "metadata": {},
     "output_type": "execute_result"
    }
   ],
   "source": [
    "top_jobs = fetch_and_score_top_by_use_case_auto(\n",
    "    api_key=\"Your_API_Key\",\n",
    "    email=\"Email@email.com\",\n",
    "    use_case=\"Sentiment\",\n",
    "    top_n=3\n",
    ")\n",
    "\n",
    "top_jobs"
   ]
  }
 ],
 "metadata": {
  "kernelspec": {
   "display_name": "dbtfin",
   "language": "python",
   "name": "dbtfin"
  },
  "language_info": {
   "codemirror_mode": {
    "name": "ipython",
    "version": 3
   },
   "file_extension": ".py",
   "mimetype": "text/x-python",
   "name": "python",
   "nbconvert_exporter": "python",
   "pygments_lexer": "ipython3",
   "version": "3.10.16"
  }
 },
 "nbformat": 4,
 "nbformat_minor": 5
}
